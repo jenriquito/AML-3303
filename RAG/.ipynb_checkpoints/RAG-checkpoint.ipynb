{
 "cells": [
  {
   "cell_type": "markdown",
   "id": "301e86fe",
   "metadata": {
    "vscode": {
     "languageId": "plaintext"
    }
   },
   "source": [
    "## Task: Build a Campus FAQ Chatbot using RAG"
   ]
  },
  {
   "cell_type": "markdown",
   "id": "0ebacc31",
   "metadata": {
    "vscode": {
     "languageId": "plaintext"
    }
   },
   "source": [
    "### Objective:\n",
    "Learn how Retrieval-Augmented Generation (RAG) works by building a small chatbot that answers questions about your college using vector embeddings and a mini vector database."
   ]
  },
  {
   "cell_type": "markdown",
   "id": "e10ac740",
   "metadata": {
    "vscode": {
     "languageId": "plaintext"
    }
   },
   "source": [
    "#### Step 0: Setup\n",
    "\n",
    "1. Install required packages:"
   ]
  },
  {
   "cell_type": "code",
   "execution_count": null,
   "id": "70b7c666",
   "metadata": {
    "vscode": {
     "languageId": "plaintext"
    }
   },
   "outputs": [],
   "source": [
    "pip install streamlit sentence-transformers faiss-cpu numpy"
   ]
  },
  {
   "cell_type": "markdown",
   "id": "fa5890f8",
   "metadata": {
    "vscode": {
     "languageId": "plaintext"
    }
   },
   "source": [
    "#### Step 1: Prepare the Data\n",
    "\n",
    "Task: Create a small FAQ dataset with at least 5 Q&A pairs.\n",
    "Example:\n",
    "\n",
    "Q: When does the library open?\n",
    "A: The library opens at 8 AM and closes at 8 PM."
   ]
  },
  {
   "cell_type": "code",
   "execution_count": 30,
   "id": "ad967162-ce7c-4ae8-a53e-90370099497a",
   "metadata": {},
   "outputs": [
    {
     "name": "stdout",
     "output_type": "stream",
     "text": [
      "Total characters: 1682\n"
     ]
    }
   ],
   "source": [
    "faq_text = \"\"\"\n",
    "Q: Where is Lambton College Ottawa located?\n",
    "Q: ¿Dónde está ubicado Lambton College Ottawa?\n",
    "A: Lambton College Ottawa is located at 223 Main Street, Ottawa, ON K1S 1C4, on the Saint Paul University campus in the heart of Canada's capital.\n",
    "\n",
    "Q: How much does student housing cost in Ottawa?\n",
    "Q: ¿Cuánto cuesta el alojamiento estudiantil en Ottawa?\n",
    "A: On-campus residence typically costs between $800-$1200 per month including utilities. Off-campus shared apartments range from $600-$900 per month per room.\n",
    "\n",
    "Q: How does public transportation work in Ottawa for students?\n",
    "Q: ¿Cómo funciona el transporte público en Ottawa para estudiantes?\n",
    "A: Ottawa uses OC Transpo buses and O-Train light rail. Students can get a U-Pass for approximately $229 per term. You'll need a Presto card which costs $4.\n",
    "\n",
    "Q: Where are the cheapest grocery stores for students in Ottawa?\n",
    "Q: ¿Dónde están los supermercados más baratos para estudiantes en Ottawa?\n",
    "A: The most affordable grocery stores are No Frills, Food Basics (10% student discount on select days), Walmart, and FreshCo. Avoid Metro and Loblaws as they're more expensive.\n",
    "\n",
    "Q: Can I work while studying at Lambton College Ottawa?\n",
    "Q: ¿Puedo trabajar mientras estudio en Lambton College Ottawa?\n",
    "A: Yes! International students can work off-campus up to 24 hours per week during academic sessions. You can work full-time during scheduled breaks.\n",
    "\n",
    "Q: What is UHIP and do I need it as an international student?\n",
    "Q: ¿Qué es UHIP y lo necesito como estudiante internacional?\n",
    "A: UHIP is mandatory health insurance for international students in Ontario. It covers doctor visits, emergency care, and hospitalization. Your college automatically enrolls you.\n",
    "\"\"\"\n",
    "\n",
    "# Verify the data\n",
    "print(f\"Total characters: {len(faq_text)}\")"
   ]
  },
  {
   "cell_type": "markdown",
   "id": "d93c70e2",
   "metadata": {},
   "source": [
    "Checkpoint:\n",
    "\n",
    "Students should have a list of questions and answers ready."
   ]
  },
  {
   "cell_type": "markdown",
   "id": "466b308d",
   "metadata": {},
   "source": [
    "#### Step 2: Split Text into Chunks\n",
    "\n",
    "Task: Split your FAQ into separate lines to treat each Q&A as a chunk."
   ]
  },
  {
   "cell_type": "code",
   "execution_count": 6,
   "id": "0af04ed2",
   "metadata": {
    "vscode": {
     "languageId": "plaintext"
    }
   },
   "outputs": [
    {
     "name": "stdout",
     "output_type": "stream",
     "text": [
      "Total lines (chunks): 18\n",
      "\n",
      "First 3 lines:\n",
      "1. Q: Where is Lambton College Ottawa located?\n",
      "2. Q: ¿Dónde está ubicado Lambton College Ottawa?\n",
      "3. A: Lambton College Ottawa is located at 223 Main Street, Ottawa, ON K1S 1C4, on the Saint Paul University campus in the heart of Canada's capital.\n"
     ]
    }
   ],
   "source": [
    "lines = [line.strip() for line in faq_text.split(\"\\n\") if line.strip()]\n",
    "\n",
    "# Verify the chunks\n",
    "print(f\"Total lines (chunks): {len(lines)}\")\n",
    "print(f\"\\nFirst 3 lines:\")\n",
    "for i in range(3):\n",
    "    print(f\"{i+1}. {lines[i]}\")"
   ]
  },
  {
   "cell_type": "markdown",
   "id": "cfd24419",
   "metadata": {},
   "source": [
    "Checkpoint:\n",
    "\n",
    "Ensure each Q&A is a separate element in a Python list."
   ]
  },
  {
   "cell_type": "markdown",
   "id": "ce6cdaec",
   "metadata": {},
   "source": [
    "#### Step 3: Create Embeddings\n",
    "\n",
    "Task: Convert each line to a vector using SentenceTransformer."
   ]
  },
  {
   "cell_type": "markdown",
   "id": "284eb43d",
   "metadata": {},
   "source": [
    "from sentence_transformers import SentenceTransformer\n",
    "model = SentenceTransformer('all-MiniLM-L6-v2')\n",
    "embeddings = model.encode(lines)"
   ]
  },
  {
   "cell_type": "code",
   "execution_count": 32,
   "id": "91f4ffdf-cb5f-4193-b910-89e44476329d",
   "metadata": {},
   "outputs": [
    {
     "name": "stdout",
     "output_type": "stream",
     "text": [
      "\n",
      "Create embeddings:\n",
      "Shape: (18, 384)\n",
      "Each line is now a vector of 384 numbers\n"
     ]
    }
   ],
   "source": [
    "from sentence_transformers import SentenceTransformer\n",
    "\n",
    "# Load the model\n",
    "model = SentenceTransformer('all-MiniLM-L6-v2')\n",
    "\n",
    "# Convert each line to a vector\n",
    "print(\"\\nCreate embeddings:\")\n",
    "embeddings = model.encode(lines)\n",
    "print(f\"Shape: {embeddings.shape}\")\n",
    "print(f\"Each line is now a vector of {embeddings.shape[1]} numbers\")"
   ]
  },
  {
   "cell_type": "markdown",
   "id": "f6c951f3",
   "metadata": {
    "vscode": {
     "languageId": "plaintext"
    }
   },
   "source": [
    "#### Step 4: Build the FAISS Index\n",
    "\n",
    "Task: Store all embeddings in a FAISS vector database."
   ]
  },
  {
   "cell_type": "code",
   "execution_count": 34,
   "id": "a794070a",
   "metadata": {
    "vscode": {
     "languageId": "plaintext"
    }
   },
   "outputs": [
    {
     "name": "stdout",
     "output_type": "stream",
     "text": [
      "Vector dimension: 384\n",
      "Total vectors in index: 18\n"
     ]
    }
   ],
   "source": [
    "import faiss\n",
    "import numpy as np\n",
    "\n",
    "# Get the dimension of our vectors\n",
    "dimension = embeddings.shape[1]\n",
    "print(f\"Vector dimension: {dimension}\")\n",
    "\n",
    "# Create FAISS index\n",
    "index = faiss.IndexFlatL2(dimension)\n",
    "\n",
    "# Add all embeddings to the index\n",
    "index.add(np.array(embeddings))\n",
    "\n",
    "print(f\"Total vectors in index: {index.ntotal}\")"
   ]
  },
  {
   "cell_type": "markdown",
   "id": "c111bd46",
   "metadata": {},
   "source": [
    "#### Step 5: Query the Database\n",
    "Task: Take a user question, convert it to a vector, and find the most relevant FAQ line."
   ]
  },
  {
   "cell_type": "code",
   "execution_count": 36,
   "id": "f02d91de-ae58-44a9-9c4f-633d906c40d1",
   "metadata": {},
   "outputs": [
    {
     "name": "stdout",
     "output_type": "stream",
     "text": [
      "User question: Where can I buy cheap groceries?\n",
      "\n",
      "Most similar line found:\n",
      "Answer: Q: Where are the cheapest grocery stores for students in Ottawa?\n",
      "\n",
      "Distance: 0.67 (lower = more similar)\n"
     ]
    }
   ],
   "source": [
    "user_question = \"Where can I buy cheap groceries?\"\n",
    "\n",
    "# Convert user question to vector\n",
    "q_emb = model.encode([user_question])\n",
    "\n",
    "# Search for the most similar vector\n",
    "D, I = index.search(np.array(q_emb), k=1)\n",
    "\n",
    "print(f\"User question: {user_question}\")\n",
    "print(f\"\\nMost similar line found:\")\n",
    "print(f\"Answer: {lines[I[0][0]]}\")\n",
    "print(f\"\\nDistance: {D[0][0]:.2f} (lower = more similar)\")"
   ]
  },
  {
   "cell_type": "code",
   "execution_count": 24,
   "id": "2110d94a-a86a-4fb8-ae5f-b915d0220fa2",
   "metadata": {},
   "outputs": [],
   "source": [
    "# Find_answer function with confidence threshold\n",
    "\n",
    "def find_answer_improved(user_question, k=5, threshold=1.5):\n",
    "    \"\"\"\n",
    "    Find answer with confidence threshold\n",
    "    If distance > threshold, return \"I don't know\"\n",
    "    \n",
    "    Args:\n",
    "        user_question: The question to search\n",
    "        k: Number of results to check\n",
    "        threshold: Maximum distance to consider relevant (default 1.5)\n",
    "    \n",
    "    Returns:\n",
    "        answer: The answer text\n",
    "        distance: The distance score\n",
    "    \"\"\"\n",
    "    # Convert user question to vector\n",
    "    q_emb = model.encode([user_question])\n",
    "    \n",
    "    # Search for k most similar vectors\n",
    "    D, I = index.search(np.array(q_emb), k)\n",
    "    \n",
    "    # Look for answer line\n",
    "    for idx, dist in zip(I[0], D[0]):\n",
    "        line = lines[idx]\n",
    "        \n",
    "        # Check if distance is too high (not relevant)\n",
    "        if dist > threshold:\n",
    "            return \"I don't have information about that topic in my database. Please ask about: housing, transportation, groceries, work permits, or UHIP.\", dist\n",
    "        \n",
    "        # If we found an answer line\n",
    "        if line.startswith(\"A:\"):\n",
    "            return line, dist\n",
    "        \n",
    "        # If we found a question, look for answer nearby\n",
    "        if line.startswith(\"Q:\"):\n",
    "            if idx + 1 < len(lines) and lines[idx + 1].startswith(\"A:\"):\n",
    "                return lines[idx + 1], dist\n",
    "            if idx + 2 < len(lines) and lines[idx + 2].startswith(\"A:\"):\n",
    "                return lines[idx + 2], dist\n",
    "    \n",
    "    return \"I couldn't find a relevant answer. Try rephrasing your question.\", 999.0"
   ]
  },
  {
   "cell_type": "code",
   "execution_count": 26,
   "id": "4c81632c-0526-49e4-a232-f35ec10078d2",
   "metadata": {},
   "outputs": [
    {
     "name": "stdout",
     "output_type": "stream",
     "text": [
      "TEST 1: Question about groceries (IN FAQ)\n",
      "Question: Where can I buy cheap food?\n",
      "Answer: A: The most affordable grocery stores are No Frills, Food Basics (10% student discount on select days), Walmart, and FreshCo. Avoid Metro and Loblaws as they're more expensive.\n",
      "Distance: 0.86\n",
      "\n",
      "TEST 2: Question about wifi (NOT in FAQ)\n",
      "Question: What is the wifi password?\n",
      "Answer: I don't have information about that topic in my database. Please ask about: housing, transportation, groceries, work permits, or UHIP.\n",
      "Distance: 1.74\n",
      "\n",
      "TEST 3: Question about parking (NOT in FAQ)\n",
      "Question: Where can I park my car?\n",
      "Answer: I don't have information about that topic in my database. Please ask about: housing, transportation, groceries, work permits, or UHIP.\n",
      "Distance: 1.59\n"
     ]
    }
   ],
   "source": [
    "# Test 1: Question IN our FAQ\n",
    "print(\"TEST 1: Question about groceries (IN FAQ)\")\n",
    "q1 = \"Where can I buy cheap food?\"\n",
    "answer1, dist1 = find_answer_improved(q1)\n",
    "print(f\"Question: {q1}\")\n",
    "print(f\"Answer: {answer1}\")\n",
    "print(f\"Distance: {dist1:.2f}\\n\")\n",
    "\n",
    "# Test 2: Question NOT in our FAQ\n",
    "print(\"TEST 2: Question about wifi (NOT in FAQ)\")\n",
    "q2 = \"What is the wifi password?\"\n",
    "answer2, dist2 = find_answer_improved(q2)\n",
    "print(f\"Question: {q2}\")\n",
    "print(f\"Answer: {answer2}\")\n",
    "print(f\"Distance: {dist2:.2f}\\n\")\n",
    "\n",
    "# Test 3: Question NOT in our FAQ\n",
    "print(\"TEST 3: Question about parking (NOT in FAQ)\")\n",
    "q3 = \"Where can I park my car?\"\n",
    "answer3, dist3 = find_answer_improved(q3)\n",
    "print(f\"Question: {q3}\")\n",
    "print(f\"Answer: {answer3}\")\n",
    "print(f\"Distance: {dist3:.2f}\")"
   ]
  },
  {
   "cell_type": "code",
   "execution_count": 28,
   "id": "70692e4a-2e49-4f62-b1db-3523bbbb7d13",
   "metadata": {},
   "outputs": [
    {
     "name": "stdout",
     "output_type": "stream",
     "text": [
      "Question (English): Where can I buy cheap groceries?\n",
      "Answer: A: The most affordable grocery stores are No Frills, Food Basics (10% student discount on select days), Walmart, and FreshCo. Avoid Metro and Loblaws as they're more expensive.\n",
      "Distance: 0.67\n",
      "\n",
      "Question (Spanish): ¿Dónde puedo comprar comida barata?\n",
      "Answer: A: The most affordable grocery stores are No Frills, Food Basics (10% student discount on select days), Walmart, and FreshCo. Avoid Metro and Loblaws as they're more expensive.\n",
      "Distance: 0.94\n"
     ]
    }
   ],
   "source": [
    "# Test: Bilingual questions\n",
    "q1 = \"Where can I buy cheap groceries?\"\n",
    "answer1, dist1 = find_answer(q1)\n",
    "print(f\"Question (English): {q1}\")\n",
    "print(f\"Answer: {answer1}\")\n",
    "print(f\"Distance: {dist1:.2f}\\n\")\n",
    "\n",
    "q2 = \"¿Dónde puedo comprar comida barata?\"\n",
    "answer2, dist2 = find_answer(q2)\n",
    "print(f\"Question (Spanish): {q2}\")\n",
    "print(f\"Answer: {answer2}\")\n",
    "print(f\"Distance: {dist2:.2f}\")"
   ]
  },
  {
   "cell_type": "markdown",
   "id": "3e9787d4",
   "metadata": {
    "vscode": {
     "languageId": "plaintext"
    }
   },
   "source": [
    "#### Step 6: Make it Interactive with Streamlit\n",
    "Task: Use Streamlit to create a simple chatbot UI.\n",
    "\n",
    "\n",
    "**The complete Streamlit application is in the file** `app.py`\n",
    "\n",
    "We should run the line: `streamlit run app.py`"
   ]
  },
  {
   "cell_type": "code",
   "execution_count": null,
   "id": "c54c5d38",
   "metadata": {
    "vscode": {
     "languageId": "plaintext"
    }
   },
   "outputs": [],
   "source": [
    "import streamlit as st\n",
    "\n",
    "st.title(\"Campus FAQ Chatbot\")\n",
    "user_question = st.text_input(\"Ask your question:\")\n",
    "if user_question:\n",
    "    q_emb = model.encode([user_question])\n",
    "    D, I = index.search(np.array(q_emb), k=1)\n",
    "    st.write(\"Answer:\", lines[I[0][0]])"
   ]
  },
  {
   "cell_type": "markdown",
   "id": "6fb3d4b0",
   "metadata": {
    "vscode": {
     "languageId": "plaintext"
    }
   },
   "source": [
    "#### Step 7: Reflection\n",
    "\n",
    "Questions for students:\n",
    "\n",
    "**1. How does the chatbot \"understand\" the question?**\n",
    "\n",
    "The chatbot converts text into numerical vectors (embeddings) that represent meaning. When you ask a question, it finds the FAQ answer with the closest vector. Similar meanings produce similar vectors, so the bot finds relevant answers even with different wording.\n",
    "\n",
    "**2. What happens if the user asks something not in the FAQ?**\n",
    "\n",
    "Without a threshold, it returns the closest match even if irrelevant. We fixed this by setting a distance limit (1.5). If no answer is close enough, the bot honestly says it doesn't have that information and suggests available topics.\n",
    "\n",
    "**3. How could you improve this system to handle more questions or longer documents?**\n",
    "\n",
    "To improve the chatbot:\n",
    "- Add more FAQ topics (scholarships, visa info, campus facilities).\n",
    "- Split long documents into meaningful chunks instead of just lines.\n",
    "- Use a language model (GPT/Claude) to generate natural responses.\n",
    "- Fine-tune the model on campus-specific terminology.\n",
    "- Add topic categories to filter and improve search accuracy.\n"
   ]
  },
  {
   "cell_type": "code",
   "execution_count": null,
   "id": "59cb2ac7-da7c-4bde-aba0-543605ac2a4e",
   "metadata": {},
   "outputs": [],
   "source": []
  }
 ],
 "metadata": {
  "kernelspec": {
   "display_name": "PySpark 3.11",
   "language": "python",
   "name": "pyspark311"
  },
  "language_info": {
   "codemirror_mode": {
    "name": "ipython",
    "version": 3
   },
   "file_extension": ".py",
   "mimetype": "text/x-python",
   "name": "python",
   "nbconvert_exporter": "python",
   "pygments_lexer": "ipython3",
   "version": "3.11.11"
  }
 },
 "nbformat": 4,
 "nbformat_minor": 5
}
